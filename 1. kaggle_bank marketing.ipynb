{
 "cells": [
  {
   "cell_type": "code",
   "execution_count": 379,
   "metadata": {},
   "outputs": [],
   "source": [
    "import pandas as pd\n",
    "import pandas_profiling\n",
    "\n",
    "import matplotlib.pyplot as plt\n",
    "from matplotlib import style\n",
    "from matplotlib import font_manager, rc\n",
    "\n",
    "#모델링\n",
    "from sklearn import model_selection"
   ]
  },
  {
   "cell_type": "markdown",
   "metadata": {},
   "source": [
    "### 1. 데이터 불러오기"
   ]
  },
  {
   "cell_type": "code",
   "execution_count": 451,
   "metadata": {},
   "outputs": [
    {
     "data": {
      "text/html": [
       "<div>\n",
       "<style scoped>\n",
       "    .dataframe tbody tr th:only-of-type {\n",
       "        vertical-align: middle;\n",
       "    }\n",
       "\n",
       "    .dataframe tbody tr th {\n",
       "        vertical-align: top;\n",
       "    }\n",
       "\n",
       "    .dataframe thead th {\n",
       "        text-align: right;\n",
       "    }\n",
       "</style>\n",
       "<table border=\"1\" class=\"dataframe\">\n",
       "  <thead>\n",
       "    <tr style=\"text-align: right;\">\n",
       "      <th></th>\n",
       "      <th>age</th>\n",
       "      <th>job</th>\n",
       "      <th>marital</th>\n",
       "      <th>education</th>\n",
       "      <th>default</th>\n",
       "      <th>balance</th>\n",
       "      <th>housing</th>\n",
       "      <th>loan</th>\n",
       "      <th>contact</th>\n",
       "      <th>day</th>\n",
       "      <th>month</th>\n",
       "      <th>duration</th>\n",
       "      <th>campaign</th>\n",
       "      <th>pdays</th>\n",
       "      <th>previous</th>\n",
       "      <th>poutcome</th>\n",
       "      <th>deposit</th>\n",
       "    </tr>\n",
       "  </thead>\n",
       "  <tbody>\n",
       "    <tr>\n",
       "      <th>0</th>\n",
       "      <td>59</td>\n",
       "      <td>admin.</td>\n",
       "      <td>married</td>\n",
       "      <td>secondary</td>\n",
       "      <td>no</td>\n",
       "      <td>2343</td>\n",
       "      <td>yes</td>\n",
       "      <td>no</td>\n",
       "      <td>unknown</td>\n",
       "      <td>5</td>\n",
       "      <td>may</td>\n",
       "      <td>1042</td>\n",
       "      <td>1</td>\n",
       "      <td>-1</td>\n",
       "      <td>0</td>\n",
       "      <td>unknown</td>\n",
       "      <td>yes</td>\n",
       "    </tr>\n",
       "    <tr>\n",
       "      <th>1</th>\n",
       "      <td>56</td>\n",
       "      <td>admin.</td>\n",
       "      <td>married</td>\n",
       "      <td>secondary</td>\n",
       "      <td>no</td>\n",
       "      <td>45</td>\n",
       "      <td>no</td>\n",
       "      <td>no</td>\n",
       "      <td>unknown</td>\n",
       "      <td>5</td>\n",
       "      <td>may</td>\n",
       "      <td>1467</td>\n",
       "      <td>1</td>\n",
       "      <td>-1</td>\n",
       "      <td>0</td>\n",
       "      <td>unknown</td>\n",
       "      <td>yes</td>\n",
       "    </tr>\n",
       "    <tr>\n",
       "      <th>2</th>\n",
       "      <td>41</td>\n",
       "      <td>technician</td>\n",
       "      <td>married</td>\n",
       "      <td>secondary</td>\n",
       "      <td>no</td>\n",
       "      <td>1270</td>\n",
       "      <td>yes</td>\n",
       "      <td>no</td>\n",
       "      <td>unknown</td>\n",
       "      <td>5</td>\n",
       "      <td>may</td>\n",
       "      <td>1389</td>\n",
       "      <td>1</td>\n",
       "      <td>-1</td>\n",
       "      <td>0</td>\n",
       "      <td>unknown</td>\n",
       "      <td>yes</td>\n",
       "    </tr>\n",
       "    <tr>\n",
       "      <th>3</th>\n",
       "      <td>55</td>\n",
       "      <td>services</td>\n",
       "      <td>married</td>\n",
       "      <td>secondary</td>\n",
       "      <td>no</td>\n",
       "      <td>2476</td>\n",
       "      <td>yes</td>\n",
       "      <td>no</td>\n",
       "      <td>unknown</td>\n",
       "      <td>5</td>\n",
       "      <td>may</td>\n",
       "      <td>579</td>\n",
       "      <td>1</td>\n",
       "      <td>-1</td>\n",
       "      <td>0</td>\n",
       "      <td>unknown</td>\n",
       "      <td>yes</td>\n",
       "    </tr>\n",
       "    <tr>\n",
       "      <th>4</th>\n",
       "      <td>54</td>\n",
       "      <td>admin.</td>\n",
       "      <td>married</td>\n",
       "      <td>tertiary</td>\n",
       "      <td>no</td>\n",
       "      <td>184</td>\n",
       "      <td>no</td>\n",
       "      <td>no</td>\n",
       "      <td>unknown</td>\n",
       "      <td>5</td>\n",
       "      <td>may</td>\n",
       "      <td>673</td>\n",
       "      <td>2</td>\n",
       "      <td>-1</td>\n",
       "      <td>0</td>\n",
       "      <td>unknown</td>\n",
       "      <td>yes</td>\n",
       "    </tr>\n",
       "  </tbody>\n",
       "</table>\n",
       "</div>"
      ],
      "text/plain": [
       "   age         job  marital  education default  balance housing loan  contact  \\\n",
       "0   59      admin.  married  secondary      no     2343     yes   no  unknown   \n",
       "1   56      admin.  married  secondary      no       45      no   no  unknown   \n",
       "2   41  technician  married  secondary      no     1270     yes   no  unknown   \n",
       "3   55    services  married  secondary      no     2476     yes   no  unknown   \n",
       "4   54      admin.  married   tertiary      no      184      no   no  unknown   \n",
       "\n",
       "   day month  duration  campaign  pdays  previous poutcome deposit  \n",
       "0    5   may      1042         1     -1         0  unknown     yes  \n",
       "1    5   may      1467         1     -1         0  unknown     yes  \n",
       "2    5   may      1389         1     -1         0  unknown     yes  \n",
       "3    5   may       579         1     -1         0  unknown     yes  \n",
       "4    5   may       673         2     -1         0  unknown     yes  "
      ]
     },
     "execution_count": 451,
     "metadata": {},
     "output_type": "execute_result"
    }
   ],
   "source": [
    "path = \"C:\\\\Users\\\\user\\\\Documents\\\\카카오톡 받은 파일\\\\\"\n",
    "data = pd.read_csv(path+\"bank.csv\")\n",
    "data.head()"
   ]
  },
  {
   "cell_type": "markdown",
   "metadata": {},
   "source": [
    "### 1-1. 판다스 프로파일링"
   ]
  },
  {
   "cell_type": "code",
   "execution_count": 352,
   "metadata": {},
   "outputs": [],
   "source": [
    "pr=data.profile_report()\n",
    "pr.to_file('pr_report.html')"
   ]
  },
  {
   "cell_type": "markdown",
   "metadata": {},
   "source": [
    "<br>\n",
    "<br>\n",
    "\n",
    "### 2. EDA"
   ]
  },
  {
   "attachments": {
    "image.png": {
     "image/png": "[encoded data removed]"
    }
   },
   "cell_type": "markdown",
   "metadata": {},
   "source": [
    "### Data Info\n",
    "<br>\n",
    "\n",
    "![image.png](attachment:image.png)"
   ]
  },
  {
   "cell_type": "code",
   "execution_count": 396,
   "metadata": {},
   "outputs": [
    {
     "name": "stdout",
     "output_type": "stream",
     "text": [
      "<class 'pandas.core.frame.DataFrame'>\n",
      "RangeIndex: 11162 entries, 0 to 11161\n",
      "Data columns (total 17 columns):\n",
      "age          11162 non-null int64\n",
      "job          11162 non-null object\n",
      "marital      11162 non-null object\n",
      "education    11162 non-null object\n",
      "default      11162 non-null object\n",
      "balance      11162 non-null int64\n",
      "housing      11162 non-null object\n",
      "loan         11162 non-null object\n",
      "contact      11162 non-null object\n",
      "day          11162 non-null int64\n",
      "month        11162 non-null object\n",
      "duration     11162 non-null int64\n",
      "campaign     11162 non-null int64\n",
      "pdays        11162 non-null int64\n",
      "previous     11162 non-null int64\n",
      "poutcome     11162 non-null object\n",
      "deposit      11162 non-null object\n",
      "dtypes: int64(7), object(10)\n",
      "memory usage: 1.4+ MB\n"
     ]
    }
   ],
   "source": [
    "data.info()\n",
    "# int64 와 object로 이루어져 있음"
   ]
  },
  {
   "cell_type": "code",
   "execution_count": 105,
   "metadata": {},
   "outputs": [
    {
     "data": {
      "text/plain": [
       "age           int64\n",
       "job          object\n",
       "marital      object\n",
       "education    object\n",
       "default      object\n",
       "balance       int64\n",
       "housing      object\n",
       "loan         object\n",
       "contact      object\n",
       "day           int64\n",
       "month        object\n",
       "duration      int64\n",
       "campaign      int64\n",
       "pdays         int64\n",
       "previous      int64\n",
       "poutcome     object\n",
       "deposit      object\n",
       "dtype: object"
      ]
     },
     "execution_count": 105,
     "metadata": {},
     "output_type": "execute_result"
    }
   ],
   "source": [
    "data.dtypes\n",
    "# int64 와 object로 이루어져 있음"
   ]
  },
  {
   "cell_type": "code",
   "execution_count": 246,
   "metadata": {},
   "outputs": [
    {
     "data": {
      "text/plain": [
       "age          0\n",
       "job          0\n",
       "marital      0\n",
       "education    0\n",
       "default      0\n",
       "balance      0\n",
       "housing      0\n",
       "loan         0\n",
       "contact      0\n",
       "day          0\n",
       "month        0\n",
       "duration     0\n",
       "campaign     0\n",
       "pdays        0\n",
       "previous     0\n",
       "poutcome     0\n",
       "deposit      0\n",
       "dtype: int64"
      ]
     },
     "execution_count": 246,
     "metadata": {},
     "output_type": "execute_result"
    }
   ],
   "source": [
    "# 결측치 확인\n",
    "data.isnull().sum()"
   ]
  },
  {
   "cell_type": "code",
   "execution_count": 117,
   "metadata": {},
   "outputs": [
    {
     "data": {
      "image/png": "[encoded data removed]",
      "text/plain": [
       "<Figure size 1008x720 with 9 Axes>"
      ]
     },
     "metadata": {},
     "output_type": "display_data"
    }
   ],
   "source": [
    "# 히스토그램을 통해 데이터 분포 확인\n",
    "plt.style.use('seaborn-whitegrid')\n",
    "\n",
    "data.hist(bins=20, figsize=(14,10), color='#E14906')\n",
    "plt.show()"
   ]
  },
  {
   "cell_type": "markdown",
   "metadata": {},
   "source": [
    "<br>\n",
    "\n",
    "### deposit 비율 확인"
   ]
  },
  {
   "cell_type": "code",
   "execution_count": 340,
   "metadata": {},
   "outputs": [],
   "source": [
    "data2 = data.copy()\n",
    "data2.loc[(data2['deposit'] == 'yes'), \"deposit\" ] = 1\n",
    "data2.loc[(data2['deposit'] == 'no'), \"deposit\" ] = 0"
   ]
  },
  {
   "cell_type": "code",
   "execution_count": 446,
   "metadata": {
    "scrolled": true
   },
   "outputs": [
    {
     "data": {
      "image/png": "[encoded data removed]",
      "text/plain": [
       "<Figure size 360x360 with 1 Axes>"
      ]
     },
     "metadata": {},
     "output_type": "display_data"
    }
   ],
   "source": [
    "ratio = (data2.deposit.value_counts(1)*100).round(2).tolist()\n",
    "\n",
    "font_name = font_manager.FontProperties(fname=\"c:/Windows/Fonts/malgun.ttf\").get_name()\n",
    "rc('font', family=font_name)\n",
    "style.use('ggplot')\n",
    "\n",
    "colors = [\"#FA5858\", \"#64FE2E\"]\n",
    "labels = ['no', \"yes\"]\n",
    "plt.figure(figsize=(5, 5))\n",
    "\n",
    "\n",
    "plt.rcParams['font.size'] = 15.0\n",
    "plt.suptitle('deposit proportion', fontsize=20)\n",
    "plt.pie(ratio, labels=labels, colors=colors, autopct='%1.1f%%', shadow=True, startangle=90)\n",
    "plt.show()"
   ]
  },
  {
   "cell_type": "code",
   "execution_count": 412,
   "metadata": {},
   "outputs": [
    {
     "data": {
      "text/html": [
       "<style  type=\"text/css\" >\n",
       "    #T_73c16b28_2d20_11ea_926b_e8d0fc7f3288row4_col0 {\n",
       "            background-color:  yellow;\n",
       "        }</style><table id=\"T_73c16b28_2d20_11ea_926b_e8d0fc7f3288\" ><thead>    <tr>        <th class=\"blank level0\" ></th>        <th class=\"col_heading level0 col0\" >deposit</th>    </tr>    <tr>        <th class=\"index_name level0\" >job</th>        <th class=\"blank\" ></th>    </tr></thead><tbody>\n",
       "                <tr>\n",
       "                        <th id=\"T_73c16b28_2d20_11ea_926b_e8d0fc7f3288level0_row0\" class=\"row_heading level0 row0\" >admin.</th>\n",
       "                        <td id=\"T_73c16b28_2d20_11ea_926b_e8d0fc7f3288row0_col0\" class=\"data row0 col0\" >631</td>\n",
       "            </tr>\n",
       "            <tr>\n",
       "                        <th id=\"T_73c16b28_2d20_11ea_926b_e8d0fc7f3288level0_row1\" class=\"row_heading level0 row1\" >blue-collar</th>\n",
       "                        <td id=\"T_73c16b28_2d20_11ea_926b_e8d0fc7f3288row1_col0\" class=\"data row1 col0\" >708</td>\n",
       "            </tr>\n",
       "            <tr>\n",
       "                        <th id=\"T_73c16b28_2d20_11ea_926b_e8d0fc7f3288level0_row2\" class=\"row_heading level0 row2\" >entrepreneur</th>\n",
       "                        <td id=\"T_73c16b28_2d20_11ea_926b_e8d0fc7f3288row2_col0\" class=\"data row2 col0\" >123</td>\n",
       "            </tr>\n",
       "            <tr>\n",
       "                        <th id=\"T_73c16b28_2d20_11ea_926b_e8d0fc7f3288level0_row3\" class=\"row_heading level0 row3\" >housemaid</th>\n",
       "                        <td id=\"T_73c16b28_2d20_11ea_926b_e8d0fc7f3288row3_col0\" class=\"data row3 col0\" >109</td>\n",
       "            </tr>\n",
       "            <tr>\n",
       "                        <th id=\"T_73c16b28_2d20_11ea_926b_e8d0fc7f3288level0_row4\" class=\"row_heading level0 row4\" >management</th>\n",
       "                        <td id=\"T_73c16b28_2d20_11ea_926b_e8d0fc7f3288row4_col0\" class=\"data row4 col0\" >1301</td>\n",
       "            </tr>\n",
       "            <tr>\n",
       "                        <th id=\"T_73c16b28_2d20_11ea_926b_e8d0fc7f3288level0_row5\" class=\"row_heading level0 row5\" >retired</th>\n",
       "                        <td id=\"T_73c16b28_2d20_11ea_926b_e8d0fc7f3288row5_col0\" class=\"data row5 col0\" >516</td>\n",
       "            </tr>\n",
       "            <tr>\n",
       "                        <th id=\"T_73c16b28_2d20_11ea_926b_e8d0fc7f3288level0_row6\" class=\"row_heading level0 row6\" >self-employed</th>\n",
       "                        <td id=\"T_73c16b28_2d20_11ea_926b_e8d0fc7f3288row6_col0\" class=\"data row6 col0\" >187</td>\n",
       "            </tr>\n",
       "            <tr>\n",
       "                        <th id=\"T_73c16b28_2d20_11ea_926b_e8d0fc7f3288level0_row7\" class=\"row_heading level0 row7\" >services</th>\n",
       "                        <td id=\"T_73c16b28_2d20_11ea_926b_e8d0fc7f3288row7_col0\" class=\"data row7 col0\" >369</td>\n",
       "            </tr>\n",
       "            <tr>\n",
       "                        <th id=\"T_73c16b28_2d20_11ea_926b_e8d0fc7f3288level0_row8\" class=\"row_heading level0 row8\" >student</th>\n",
       "                        <td id=\"T_73c16b28_2d20_11ea_926b_e8d0fc7f3288row8_col0\" class=\"data row8 col0\" >269</td>\n",
       "            </tr>\n",
       "            <tr>\n",
       "                        <th id=\"T_73c16b28_2d20_11ea_926b_e8d0fc7f3288level0_row9\" class=\"row_heading level0 row9\" >technician</th>\n",
       "                        <td id=\"T_73c16b28_2d20_11ea_926b_e8d0fc7f3288row9_col0\" class=\"data row9 col0\" >840</td>\n",
       "            </tr>\n",
       "            <tr>\n",
       "                        <th id=\"T_73c16b28_2d20_11ea_926b_e8d0fc7f3288level0_row10\" class=\"row_heading level0 row10\" >unemployed</th>\n",
       "                        <td id=\"T_73c16b28_2d20_11ea_926b_e8d0fc7f3288row10_col0\" class=\"data row10 col0\" >202</td>\n",
       "            </tr>\n",
       "            <tr>\n",
       "                        <th id=\"T_73c16b28_2d20_11ea_926b_e8d0fc7f3288level0_row11\" class=\"row_heading level0 row11\" >unknown</th>\n",
       "                        <td id=\"T_73c16b28_2d20_11ea_926b_e8d0fc7f3288row11_col0\" class=\"data row11 col0\" >34</td>\n",
       "            </tr>\n",
       "    </tbody></table>"
      ],
      "text/plain": [
       "<pandas.io.formats.style.Styler at 0x226be847f28>"
      ]
     },
     "execution_count": 412,
     "metadata": {},
     "output_type": "execute_result"
    }
   ],
   "source": [
    "pd.DataFrame(data2.groupby([\"job\"]).deposit.sum()).style.highlight_max()"
   ]
  },
  {
   "cell_type": "code",
   "execution_count": 450,
   "metadata": {},
   "outputs": [
    {
     "data": {
      "text/plain": [
       "<matplotlib.axes._subplots.AxesSubplot at 0x226c0b99908>"
      ]
     },
     "execution_count": 450,
     "metadata": {},
     "output_type": "execute_result"
    },
    {
     "data": {
      "image/png": "[encoded data removed]",
      "text/plain": [
       "<Figure size 576x396 with 1 Axes>"
      ]
     },
     "metadata": {},
     "output_type": "display_data"
    }
   ],
   "source": [
    "# 직업별 그룹합수\n",
    "job_deposit = pd.DataFrame(data2.groupby([\"job\"]).deposit.sum())\n",
    "job_deposit.sort_values(by='deposit', ascending=True).plot(kind='barh', title = '직업별 deposit 수', color = 'skyblue')"
   ]
  },
  {
   "cell_type": "markdown",
   "metadata": {},
   "source": [
    "<br>\n",
    "<br>\n",
    "\n",
    "## 3. 데이터 전처리\n",
    "\n",
    "\n",
    "### 3-1. target 변수 전처리"
   ]
  },
  {
   "cell_type": "code",
   "execution_count": 452,
   "metadata": {},
   "outputs": [],
   "source": [
    "y_data = data[[\"deposit\"]]\n",
    "\n",
    "y_data.loc[(y_data['deposit'] == 'yes'), \"deposit\" ] = 1\n",
    "y_data.loc[(y_data['deposit'] == 'no'), \"deposit\" ] = 0"
   ]
  },
  {
   "cell_type": "markdown",
   "metadata": {},
   "source": [
    "<br>\n",
    "<br>\n",
    "\n",
    "### 3-2. 독립변수 전처리"
   ]
  },
  {
   "cell_type": "code",
   "execution_count": 453,
   "metadata": {},
   "outputs": [
    {
     "data": {
      "text/html": [
       "<div>\n",
       "<style scoped>\n",
       "    .dataframe tbody tr th:only-of-type {\n",
       "        vertical-align: middle;\n",
       "    }\n",
       "\n",
       "    .dataframe tbody tr th {\n",
       "        vertical-align: top;\n",
       "    }\n",
       "\n",
       "    .dataframe thead th {\n",
       "        text-align: right;\n",
       "    }\n",
       "</style>\n",
       "<table border=\"1\" class=\"dataframe\">\n",
       "  <thead>\n",
       "    <tr style=\"text-align: right;\">\n",
       "      <th></th>\n",
       "      <th>age</th>\n",
       "      <th>job</th>\n",
       "      <th>marital</th>\n",
       "      <th>education</th>\n",
       "      <th>default</th>\n",
       "      <th>balance</th>\n",
       "      <th>housing</th>\n",
       "      <th>loan</th>\n",
       "      <th>contact</th>\n",
       "      <th>day</th>\n",
       "      <th>month</th>\n",
       "      <th>duration</th>\n",
       "      <th>campaign</th>\n",
       "      <th>pdays</th>\n",
       "      <th>previous</th>\n",
       "      <th>poutcome</th>\n",
       "    </tr>\n",
       "  </thead>\n",
       "  <tbody>\n",
       "    <tr>\n",
       "      <th>0</th>\n",
       "      <td>59</td>\n",
       "      <td>admin.</td>\n",
       "      <td>married</td>\n",
       "      <td>secondary</td>\n",
       "      <td>no</td>\n",
       "      <td>2343</td>\n",
       "      <td>yes</td>\n",
       "      <td>no</td>\n",
       "      <td>unknown</td>\n",
       "      <td>5</td>\n",
       "      <td>may</td>\n",
       "      <td>1042</td>\n",
       "      <td>1</td>\n",
       "      <td>-1</td>\n",
       "      <td>0</td>\n",
       "      <td>unknown</td>\n",
       "    </tr>\n",
       "    <tr>\n",
       "      <th>1</th>\n",
       "      <td>56</td>\n",
       "      <td>admin.</td>\n",
       "      <td>married</td>\n",
       "      <td>secondary</td>\n",
       "      <td>no</td>\n",
       "      <td>45</td>\n",
       "      <td>no</td>\n",
       "      <td>no</td>\n",
       "      <td>unknown</td>\n",
       "      <td>5</td>\n",
       "      <td>may</td>\n",
       "      <td>1467</td>\n",
       "      <td>1</td>\n",
       "      <td>-1</td>\n",
       "      <td>0</td>\n",
       "      <td>unknown</td>\n",
       "    </tr>\n",
       "    <tr>\n",
       "      <th>2</th>\n",
       "      <td>41</td>\n",
       "      <td>technician</td>\n",
       "      <td>married</td>\n",
       "      <td>secondary</td>\n",
       "      <td>no</td>\n",
       "      <td>1270</td>\n",
       "      <td>yes</td>\n",
       "      <td>no</td>\n",
       "      <td>unknown</td>\n",
       "      <td>5</td>\n",
       "      <td>may</td>\n",
       "      <td>1389</td>\n",
       "      <td>1</td>\n",
       "      <td>-1</td>\n",
       "      <td>0</td>\n",
       "      <td>unknown</td>\n",
       "    </tr>\n",
       "    <tr>\n",
       "      <th>3</th>\n",
       "      <td>55</td>\n",
       "      <td>services</td>\n",
       "      <td>married</td>\n",
       "      <td>secondary</td>\n",
       "      <td>no</td>\n",
       "      <td>2476</td>\n",
       "      <td>yes</td>\n",
       "      <td>no</td>\n",
       "      <td>unknown</td>\n",
       "      <td>5</td>\n",
       "      <td>may</td>\n",
       "      <td>579</td>\n",
       "      <td>1</td>\n",
       "      <td>-1</td>\n",
       "      <td>0</td>\n",
       "      <td>unknown</td>\n",
       "    </tr>\n",
       "    <tr>\n",
       "      <th>4</th>\n",
       "      <td>54</td>\n",
       "      <td>admin.</td>\n",
       "      <td>married</td>\n",
       "      <td>tertiary</td>\n",
       "      <td>no</td>\n",
       "      <td>184</td>\n",
       "      <td>no</td>\n",
       "      <td>no</td>\n",
       "      <td>unknown</td>\n",
       "      <td>5</td>\n",
       "      <td>may</td>\n",
       "      <td>673</td>\n",
       "      <td>2</td>\n",
       "      <td>-1</td>\n",
       "      <td>0</td>\n",
       "      <td>unknown</td>\n",
       "    </tr>\n",
       "    <tr>\n",
       "      <th>5</th>\n",
       "      <td>42</td>\n",
       "      <td>management</td>\n",
       "      <td>single</td>\n",
       "      <td>tertiary</td>\n",
       "      <td>no</td>\n",
       "      <td>0</td>\n",
       "      <td>yes</td>\n",
       "      <td>yes</td>\n",
       "      <td>unknown</td>\n",
       "      <td>5</td>\n",
       "      <td>may</td>\n",
       "      <td>562</td>\n",
       "      <td>2</td>\n",
       "      <td>-1</td>\n",
       "      <td>0</td>\n",
       "      <td>unknown</td>\n",
       "    </tr>\n",
       "    <tr>\n",
       "      <th>6</th>\n",
       "      <td>56</td>\n",
       "      <td>management</td>\n",
       "      <td>married</td>\n",
       "      <td>tertiary</td>\n",
       "      <td>no</td>\n",
       "      <td>830</td>\n",
       "      <td>yes</td>\n",
       "      <td>yes</td>\n",
       "      <td>unknown</td>\n",
       "      <td>6</td>\n",
       "      <td>may</td>\n",
       "      <td>1201</td>\n",
       "      <td>1</td>\n",
       "      <td>-1</td>\n",
       "      <td>0</td>\n",
       "      <td>unknown</td>\n",
       "    </tr>\n",
       "    <tr>\n",
       "      <th>7</th>\n",
       "      <td>60</td>\n",
       "      <td>retired</td>\n",
       "      <td>divorced</td>\n",
       "      <td>secondary</td>\n",
       "      <td>no</td>\n",
       "      <td>545</td>\n",
       "      <td>yes</td>\n",
       "      <td>no</td>\n",
       "      <td>unknown</td>\n",
       "      <td>6</td>\n",
       "      <td>may</td>\n",
       "      <td>1030</td>\n",
       "      <td>1</td>\n",
       "      <td>-1</td>\n",
       "      <td>0</td>\n",
       "      <td>unknown</td>\n",
       "    </tr>\n",
       "    <tr>\n",
       "      <th>8</th>\n",
       "      <td>37</td>\n",
       "      <td>technician</td>\n",
       "      <td>married</td>\n",
       "      <td>secondary</td>\n",
       "      <td>no</td>\n",
       "      <td>1</td>\n",
       "      <td>yes</td>\n",
       "      <td>no</td>\n",
       "      <td>unknown</td>\n",
       "      <td>6</td>\n",
       "      <td>may</td>\n",
       "      <td>608</td>\n",
       "      <td>1</td>\n",
       "      <td>-1</td>\n",
       "      <td>0</td>\n",
       "      <td>unknown</td>\n",
       "    </tr>\n",
       "    <tr>\n",
       "      <th>9</th>\n",
       "      <td>28</td>\n",
       "      <td>services</td>\n",
       "      <td>single</td>\n",
       "      <td>secondary</td>\n",
       "      <td>no</td>\n",
       "      <td>5090</td>\n",
       "      <td>yes</td>\n",
       "      <td>no</td>\n",
       "      <td>unknown</td>\n",
       "      <td>6</td>\n",
       "      <td>may</td>\n",
       "      <td>1297</td>\n",
       "      <td>3</td>\n",
       "      <td>-1</td>\n",
       "      <td>0</td>\n",
       "      <td>unknown</td>\n",
       "    </tr>\n",
       "  </tbody>\n",
       "</table>\n",
       "</div>"
      ],
      "text/plain": [
       "   age         job   marital  education default  balance housing loan  \\\n",
       "0   59      admin.   married  secondary      no     2343     yes   no   \n",
       "1   56      admin.   married  secondary      no       45      no   no   \n",
       "2   41  technician   married  secondary      no     1270     yes   no   \n",
       "3   55    services   married  secondary      no     2476     yes   no   \n",
       "4   54      admin.   married   tertiary      no      184      no   no   \n",
       "5   42  management    single   tertiary      no        0     yes  yes   \n",
       "6   56  management   married   tertiary      no      830     yes  yes   \n",
       "7   60     retired  divorced  secondary      no      545     yes   no   \n",
       "8   37  technician   married  secondary      no        1     yes   no   \n",
       "9   28    services    single  secondary      no     5090     yes   no   \n",
       "\n",
       "   contact  day month  duration  campaign  pdays  previous poutcome  \n",
       "0  unknown    5   may      1042         1     -1         0  unknown  \n",
       "1  unknown    5   may      1467         1     -1         0  unknown  \n",
       "2  unknown    5   may      1389         1     -1         0  unknown  \n",
       "3  unknown    5   may       579         1     -1         0  unknown  \n",
       "4  unknown    5   may       673         2     -1         0  unknown  \n",
       "5  unknown    5   may       562         2     -1         0  unknown  \n",
       "6  unknown    6   may      1201         1     -1         0  unknown  \n",
       "7  unknown    6   may      1030         1     -1         0  unknown  \n",
       "8  unknown    6   may       608         1     -1         0  unknown  \n",
       "9  unknown    6   may      1297         3     -1         0  unknown  "
      ]
     },
     "execution_count": 453,
     "metadata": {},
     "output_type": "execute_result"
    }
   ],
   "source": [
    "x_data = data.copy()\n",
    "del x_data[\"deposit\"]\n",
    "x_data.head(10)"
   ]
  },
  {
   "cell_type": "markdown",
   "metadata": {},
   "source": [
    "<br>\n",
    "<br>\n",
    "\n",
    "### 3-3. x_data : 데이터 범주화"
   ]
  },
  {
   "cell_type": "markdown",
   "metadata": {},
   "source": [
    "<br>\n",
    "\n",
    "#### 바꿔야할 변수: age\n",
    "<br>\n",
    "\n",
    "**히스토그램을 통해서 age 분포 확인**"
   ]
  },
  {
   "cell_type": "code",
   "execution_count": 454,
   "metadata": {},
   "outputs": [
    {
     "data": {
      "image/png": "[encoded data removed]",
      "text/plain": [
       "<Figure size 720x720 with 1 Axes>"
      ]
     },
     "metadata": {},
     "output_type": "display_data"
    }
   ],
   "source": [
    "plt.style.use('seaborn-whitegrid')\n",
    "\n",
    "data[\"age\"].hist(bins = 20, figsize=(10,10), color = 'skyblue')\n",
    "plt.show()"
   ]
  },
  {
   "cell_type": "code",
   "execution_count": 455,
   "metadata": {},
   "outputs": [],
   "source": [
    "# 데이터 범주화\n",
    "x_data.loc[(x_data['age'] < 20), \"age_group\" ] = 1 # 20 대 미만\n",
    "x_data.loc[((x_data['age'] >= 20) & (x_data['age'] < 30)), \"age_group\" ] = 2 # 20대\n",
    "x_data.loc[((x_data['age'] >= 30) & (x_data['age'] < 35)), \"age_group\" ] = 3 # 30-34\n",
    "x_data.loc[((x_data['age'] >= 35) & (x_data['age'] < 40)), \"age_group\" ] = 4 #  35-39\n",
    "x_data.loc[((x_data['age'] >= 40) & (x_data['age'] < 50)), \"age_group\" ] = 5 # 40대\n",
    "x_data.loc[((x_data['age'] >= 50) & (x_data['age'] < 60)), \"age_group\" ] = 6 # 50대\n",
    "x_data.loc[(x_data['age'] >= 60), \"age_group\" ] = 7 # 60대"
   ]
  },
  {
   "cell_type": "code",
   "execution_count": 456,
   "metadata": {},
   "outputs": [
    {
     "data": {
      "text/html": [
       "<div>\n",
       "<style scoped>\n",
       "    .dataframe tbody tr th:only-of-type {\n",
       "        vertical-align: middle;\n",
       "    }\n",
       "\n",
       "    .dataframe tbody tr th {\n",
       "        vertical-align: top;\n",
       "    }\n",
       "\n",
       "    .dataframe thead th {\n",
       "        text-align: right;\n",
       "    }\n",
       "</style>\n",
       "<table border=\"1\" class=\"dataframe\">\n",
       "  <thead>\n",
       "    <tr style=\"text-align: right;\">\n",
       "      <th></th>\n",
       "      <th>age_group</th>\n",
       "    </tr>\n",
       "  </thead>\n",
       "  <tbody>\n",
       "    <tr>\n",
       "      <th>5.0</th>\n",
       "      <td>2628</td>\n",
       "    </tr>\n",
       "    <tr>\n",
       "      <th>3.0</th>\n",
       "      <td>2359</td>\n",
       "    </tr>\n",
       "    <tr>\n",
       "      <th>4.0</th>\n",
       "      <td>1959</td>\n",
       "    </tr>\n",
       "    <tr>\n",
       "      <th>6.0</th>\n",
       "      <td>1885</td>\n",
       "    </tr>\n",
       "    <tr>\n",
       "      <th>2.0</th>\n",
       "      <td>1530</td>\n",
       "    </tr>\n",
       "    <tr>\n",
       "      <th>7.0</th>\n",
       "      <td>780</td>\n",
       "    </tr>\n",
       "    <tr>\n",
       "      <th>1.0</th>\n",
       "      <td>21</td>\n",
       "    </tr>\n",
       "  </tbody>\n",
       "</table>\n",
       "</div>"
      ],
      "text/plain": [
       "     age_group\n",
       "5.0       2628\n",
       "3.0       2359\n",
       "4.0       1959\n",
       "6.0       1885\n",
       "2.0       1530\n",
       "7.0        780\n",
       "1.0         21"
      ]
     },
     "execution_count": 456,
     "metadata": {},
     "output_type": "execute_result"
    }
   ],
   "source": [
    "pd.DataFrame(x_data[\"age_group\"].value_counts())"
   ]
  },
  {
   "cell_type": "code",
   "execution_count": 457,
   "metadata": {},
   "outputs": [
    {
     "data": {
      "image/png": "[encoded data removed]",
      "text/plain": [
       "<Figure size 720x720 with 1 Axes>"
      ]
     },
     "metadata": {},
     "output_type": "display_data"
    }
   ],
   "source": [
    "plt.style.use('seaborn-whitegrid')\n",
    "\n",
    "x_data[\"age_group\"].hist(bins = 20, figsize=(10,10), color = 'skyblue')\n",
    "plt.show()"
   ]
  },
  {
   "cell_type": "markdown",
   "metadata": {},
   "source": [
    "### 3-4. x_data : 문자열 -> 숫자로 변경\n",
    "<br>\n",
    "\n",
    "#### 바꿔야할 변수: job, marital, education, default, housing, loan, contact, month, poutcome"
   ]
  },
  {
   "cell_type": "code",
   "execution_count": 458,
   "metadata": {},
   "outputs": [],
   "source": [
    "def uni_list(change_col):\n",
    "    return x_data[change_col].unique().tolist()"
   ]
  },
  {
   "cell_type": "code",
   "execution_count": 459,
   "metadata": {},
   "outputs": [],
   "source": [
    "# 함수화해서 바꾸기\n",
    "def total_change(change_col):\n",
    "    uni_list = x_data[change_col].unique().tolist()\n",
    "    for i in range(len(uni_list)):\n",
    "        x_data.loc[(x_data[change_col] == uni_list[i]), change_col+\"_group\"] = i+1        "
   ]
  },
  {
   "cell_type": "code",
   "execution_count": 460,
   "metadata": {},
   "outputs": [
    {
     "name": "stdout",
     "output_type": "stream",
     "text": [
      "['admin.', 'technician', 'services', 'management', 'retired', 'blue-collar', 'unemployed', 'entrepreneur', 'housemaid', 'unknown', 'self-employed', 'student']\n"
     ]
    },
    {
     "data": {
      "text/plain": [
       "4.0     2566\n",
       "6.0     1944\n",
       "2.0     1823\n",
       "1.0     1334\n",
       "3.0      923\n",
       "5.0      778\n",
       "11.0     405\n",
       "12.0     360\n",
       "7.0      357\n",
       "8.0      328\n",
       "9.0      274\n",
       "10.0      70\n",
       "Name: job_group, dtype: int64"
      ]
     },
     "execution_count": 460,
     "metadata": {},
     "output_type": "execute_result"
    }
   ],
   "source": [
    "# 1. job\n",
    "total_change('job')\n",
    "print(uni_list('job'))\n",
    "x_data[\"job_group\"].value_counts()"
   ]
  },
  {
   "cell_type": "code",
   "execution_count": 461,
   "metadata": {},
   "outputs": [
    {
     "data": {
      "text/plain": [
       "<BarContainer object of 12 artists>"
      ]
     },
     "execution_count": 461,
     "metadata": {},
     "output_type": "execute_result"
    },
    {
     "data": {
      "image/png": "[encoded data removed]",
      "text/plain": [
       "<Figure size 1080x1080 with 1 Axes>"
      ]
     },
     "metadata": {},
     "output_type": "display_data"
    }
   ],
   "source": [
    "plt.figure(figsize=(15, 15))\n",
    "plt.bar(x_data[\"job\"].unique().tolist(), x_data[\"job\"].value_counts().tolist(), color = \"orange\")"
   ]
  },
  {
   "cell_type": "code",
   "execution_count": 462,
   "metadata": {
    "scrolled": true
   },
   "outputs": [
    {
     "data": {
      "image/png": "[encoded data removed]",
      "text/plain": [
       "<Figure size 720x720 with 1 Axes>"
      ]
     },
     "metadata": {},
     "output_type": "display_data"
    }
   ],
   "source": [
    "plt.style.use('seaborn-whitegrid')\n",
    "\n",
    "x_data[\"job_group\"].hist(bins = 30, figsize=(10,10), color = 'skyblue')\n",
    "plt.show()"
   ]
  },
  {
   "cell_type": "code",
   "execution_count": 463,
   "metadata": {},
   "outputs": [
    {
     "data": {
      "text/plain": [
       "0    1.0\n",
       "1    1.0\n",
       "2    1.0\n",
       "3    1.0\n",
       "4    1.0\n",
       "Name: marital_group, dtype: float64"
      ]
     },
     "execution_count": 463,
     "metadata": {},
     "output_type": "execute_result"
    }
   ],
   "source": [
    "# 2. marital\n",
    "total_change('marital')\n",
    "x_data[\"marital_group\"].head()"
   ]
  },
  {
   "cell_type": "code",
   "execution_count": 464,
   "metadata": {},
   "outputs": [
    {
     "data": {
      "text/plain": [
       "0    1.0\n",
       "1    1.0\n",
       "2    1.0\n",
       "3    1.0\n",
       "4    2.0\n",
       "Name: education_group, dtype: float64"
      ]
     },
     "execution_count": 464,
     "metadata": {},
     "output_type": "execute_result"
    }
   ],
   "source": [
    "# 3. education\n",
    "total_change('education')\n",
    "x_data[\"education_group\"].head()"
   ]
  },
  {
   "cell_type": "code",
   "execution_count": 465,
   "metadata": {},
   "outputs": [
    {
     "data": {
      "text/plain": [
       "0    1.0\n",
       "1    1.0\n",
       "2    1.0\n",
       "3    1.0\n",
       "4    1.0\n",
       "Name: default_group, dtype: float64"
      ]
     },
     "execution_count": 465,
     "metadata": {},
     "output_type": "execute_result"
    }
   ],
   "source": [
    "# 4. default\n",
    "total_change('default')\n",
    "x_data['default_group'].head()"
   ]
  },
  {
   "cell_type": "code",
   "execution_count": 466,
   "metadata": {},
   "outputs": [
    {
     "data": {
      "text/plain": [
       "0    1.0\n",
       "1    2.0\n",
       "2    1.0\n",
       "3    1.0\n",
       "4    2.0\n",
       "Name: housing_group, dtype: float64"
      ]
     },
     "execution_count": 466,
     "metadata": {},
     "output_type": "execute_result"
    }
   ],
   "source": [
    "# 5. housing\n",
    "total_change('housing')\n",
    "x_data['housing_group'].head()"
   ]
  },
  {
   "cell_type": "code",
   "execution_count": 467,
   "metadata": {},
   "outputs": [
    {
     "data": {
      "text/plain": [
       "0    1.0\n",
       "1    1.0\n",
       "2    1.0\n",
       "3    1.0\n",
       "4    1.0\n",
       "Name: loan_group, dtype: float64"
      ]
     },
     "execution_count": 467,
     "metadata": {},
     "output_type": "execute_result"
    }
   ],
   "source": [
    "# 6. loan\n",
    "total_change('loan')\n",
    "x_data['loan_group'].head()"
   ]
  },
  {
   "cell_type": "code",
   "execution_count": 468,
   "metadata": {},
   "outputs": [
    {
     "data": {
      "text/plain": [
       "0    1.0\n",
       "1    1.0\n",
       "2    1.0\n",
       "3    1.0\n",
       "4    1.0\n",
       "Name: contact_group, dtype: float64"
      ]
     },
     "execution_count": 468,
     "metadata": {},
     "output_type": "execute_result"
    }
   ],
   "source": [
    "# 7. contact\n",
    "total_change('contact')\n",
    "x_data['contact_group'].head()"
   ]
  },
  {
   "cell_type": "code",
   "execution_count": 469,
   "metadata": {},
   "outputs": [
    {
     "data": {
      "text/plain": [
       "0    1.0\n",
       "1    1.0\n",
       "2    1.0\n",
       "3    1.0\n",
       "4    1.0\n",
       "Name: month_group, dtype: float64"
      ]
     },
     "execution_count": 469,
     "metadata": {},
     "output_type": "execute_result"
    }
   ],
   "source": [
    "# 8. month\n",
    "total_change('month')\n",
    "x_data['month_group'].head()"
   ]
  },
  {
   "cell_type": "code",
   "execution_count": 470,
   "metadata": {
    "scrolled": true
   },
   "outputs": [
    {
     "data": {
      "text/plain": [
       "0    1.0\n",
       "1    1.0\n",
       "2    1.0\n",
       "3    1.0\n",
       "4    1.0\n",
       "Name: poutcome_group, dtype: float64"
      ]
     },
     "execution_count": 470,
     "metadata": {},
     "output_type": "execute_result"
    }
   ],
   "source": [
    "# 9. poutcome\n",
    "total_change('poutcome')\n",
    "x_data['poutcome_group'].head()"
   ]
  },
  {
   "cell_type": "code",
   "execution_count": 487,
   "metadata": {},
   "outputs": [
    {
     "data": {
      "image/png": "[encoded data removed]",
      "text/plain": [
       "<Figure size 1008x720 with 16 Axes>"
      ]
     },
     "metadata": {},
     "output_type": "display_data"
    }
   ],
   "source": [
    "# 히스토그램을 통해 데이터 분포 확인\n",
    "# int형으로 치환한 모든 변수 분포 확인 가능\n",
    "\n",
    "import matplotlib.pyplot as plt\n",
    "plt.rcParams['font.size'] = 10.0\n",
    "plt.style.use('seaborn-whitegrid')\n",
    "\n",
    "x_data.hist(bins=20, figsize=(14,10), color='#E14906')\n",
    "plt.show()"
   ]
  },
  {
   "cell_type": "markdown",
   "metadata": {},
   "source": [
    "<br>\n",
    "<br>\n",
    "\n",
    "### 3-5. 불필요한 변수 삭제"
   ]
  },
  {
   "cell_type": "code",
   "execution_count": 474,
   "metadata": {},
   "outputs": [
    {
     "data": {
      "text/html": [
       "<div>\n",
       "<style scoped>\n",
       "    .dataframe tbody tr th:only-of-type {\n",
       "        vertical-align: middle;\n",
       "    }\n",
       "\n",
       "    .dataframe tbody tr th {\n",
       "        vertical-align: top;\n",
       "    }\n",
       "\n",
       "    .dataframe thead th {\n",
       "        text-align: right;\n",
       "    }\n",
       "</style>\n",
       "<table border=\"1\" class=\"dataframe\">\n",
       "  <thead>\n",
       "    <tr style=\"text-align: right;\">\n",
       "      <th></th>\n",
       "      <th>balance</th>\n",
       "      <th>day</th>\n",
       "      <th>duration</th>\n",
       "      <th>campaign</th>\n",
       "      <th>pdays</th>\n",
       "      <th>previous</th>\n",
       "      <th>age_group</th>\n",
       "      <th>job_group</th>\n",
       "      <th>marital_group</th>\n",
       "      <th>education_group</th>\n",
       "      <th>default_group</th>\n",
       "      <th>housing_group</th>\n",
       "      <th>loan_group</th>\n",
       "      <th>contact_group</th>\n",
       "      <th>month_group</th>\n",
       "      <th>poutcome_group</th>\n",
       "    </tr>\n",
       "  </thead>\n",
       "  <tbody>\n",
       "    <tr>\n",
       "      <th>0</th>\n",
       "      <td>2343</td>\n",
       "      <td>5</td>\n",
       "      <td>1042</td>\n",
       "      <td>1</td>\n",
       "      <td>-1</td>\n",
       "      <td>0</td>\n",
       "      <td>6.0</td>\n",
       "      <td>1.0</td>\n",
       "      <td>1.0</td>\n",
       "      <td>1.0</td>\n",
       "      <td>1.0</td>\n",
       "      <td>1.0</td>\n",
       "      <td>1.0</td>\n",
       "      <td>1.0</td>\n",
       "      <td>1.0</td>\n",
       "      <td>1.0</td>\n",
       "    </tr>\n",
       "    <tr>\n",
       "      <th>1</th>\n",
       "      <td>45</td>\n",
       "      <td>5</td>\n",
       "      <td>1467</td>\n",
       "      <td>1</td>\n",
       "      <td>-1</td>\n",
       "      <td>0</td>\n",
       "      <td>6.0</td>\n",
       "      <td>1.0</td>\n",
       "      <td>1.0</td>\n",
       "      <td>1.0</td>\n",
       "      <td>1.0</td>\n",
       "      <td>2.0</td>\n",
       "      <td>1.0</td>\n",
       "      <td>1.0</td>\n",
       "      <td>1.0</td>\n",
       "      <td>1.0</td>\n",
       "    </tr>\n",
       "    <tr>\n",
       "      <th>2</th>\n",
       "      <td>1270</td>\n",
       "      <td>5</td>\n",
       "      <td>1389</td>\n",
       "      <td>1</td>\n",
       "      <td>-1</td>\n",
       "      <td>0</td>\n",
       "      <td>5.0</td>\n",
       "      <td>2.0</td>\n",
       "      <td>1.0</td>\n",
       "      <td>1.0</td>\n",
       "      <td>1.0</td>\n",
       "      <td>1.0</td>\n",
       "      <td>1.0</td>\n",
       "      <td>1.0</td>\n",
       "      <td>1.0</td>\n",
       "      <td>1.0</td>\n",
       "    </tr>\n",
       "    <tr>\n",
       "      <th>3</th>\n",
       "      <td>2476</td>\n",
       "      <td>5</td>\n",
       "      <td>579</td>\n",
       "      <td>1</td>\n",
       "      <td>-1</td>\n",
       "      <td>0</td>\n",
       "      <td>6.0</td>\n",
       "      <td>3.0</td>\n",
       "      <td>1.0</td>\n",
       "      <td>1.0</td>\n",
       "      <td>1.0</td>\n",
       "      <td>1.0</td>\n",
       "      <td>1.0</td>\n",
       "      <td>1.0</td>\n",
       "      <td>1.0</td>\n",
       "      <td>1.0</td>\n",
       "    </tr>\n",
       "    <tr>\n",
       "      <th>4</th>\n",
       "      <td>184</td>\n",
       "      <td>5</td>\n",
       "      <td>673</td>\n",
       "      <td>2</td>\n",
       "      <td>-1</td>\n",
       "      <td>0</td>\n",
       "      <td>6.0</td>\n",
       "      <td>1.0</td>\n",
       "      <td>1.0</td>\n",
       "      <td>2.0</td>\n",
       "      <td>1.0</td>\n",
       "      <td>2.0</td>\n",
       "      <td>1.0</td>\n",
       "      <td>1.0</td>\n",
       "      <td>1.0</td>\n",
       "      <td>1.0</td>\n",
       "    </tr>\n",
       "  </tbody>\n",
       "</table>\n",
       "</div>"
      ],
      "text/plain": [
       "   balance  day  duration  campaign  pdays  previous  age_group  job_group  \\\n",
       "0     2343    5      1042         1     -1         0        6.0        1.0   \n",
       "1       45    5      1467         1     -1         0        6.0        1.0   \n",
       "2     1270    5      1389         1     -1         0        5.0        2.0   \n",
       "3     2476    5       579         1     -1         0        6.0        3.0   \n",
       "4      184    5       673         2     -1         0        6.0        1.0   \n",
       "\n",
       "   marital_group  education_group  default_group  housing_group  loan_group  \\\n",
       "0            1.0              1.0            1.0            1.0         1.0   \n",
       "1            1.0              1.0            1.0            2.0         1.0   \n",
       "2            1.0              1.0            1.0            1.0         1.0   \n",
       "3            1.0              1.0            1.0            1.0         1.0   \n",
       "4            1.0              2.0            1.0            2.0         1.0   \n",
       "\n",
       "   contact_group  month_group  poutcome_group  \n",
       "0            1.0          1.0             1.0  \n",
       "1            1.0          1.0             1.0  \n",
       "2            1.0          1.0             1.0  \n",
       "3            1.0          1.0             1.0  \n",
       "4            1.0          1.0             1.0  "
      ]
     },
     "execution_count": 474,
     "metadata": {},
     "output_type": "execute_result"
    }
   ],
   "source": [
    "del_cols = [\"age\", \"job\",\"marital\", \"education\", \"default\", \"housing\", \"loan\", \"contact\", \"month\", \"poutcome\"]\n",
    "\n",
    "x_data.drop(labels = del_cols, axis = 1, inplace = True)\n",
    "x_data.head()"
   ]
  },
  {
   "cell_type": "markdown",
   "metadata": {},
   "source": [
    "<br>\n",
    "<br>\n",
    "\n",
    "## 4. test x , test y,  train x, train y 데이터 분리"
   ]
  },
  {
   "cell_type": "code",
   "execution_count": 477,
   "metadata": {},
   "outputs": [
    {
     "name": "stdout",
     "output_type": "stream",
     "text": [
      "(7813, 16)\n",
      "(3349, 16)\n",
      "(7813, 1)\n",
      "(3349, 1)\n"
     ]
    }
   ],
   "source": [
    "from sklearn import model_selection\n",
    "\n",
    "train_data, test_data, train_label, test_label = model_selection.train_test_split(x_data, y_data,\n",
    "                                                                                 test_size=0.3,\n",
    "                                                                                 random_state=0)\n",
    "print(train_data.shape)\n",
    "print(test_data.shape)\n",
    "print(train_label.shape)\n",
    "print(test_label.shape)"
   ]
  },
  {
   "cell_type": "code",
   "execution_count": 478,
   "metadata": {},
   "outputs": [
    {
     "data": {
      "text/html": [
       "<div>\n",
       "<style scoped>\n",
       "    .dataframe tbody tr th:only-of-type {\n",
       "        vertical-align: middle;\n",
       "    }\n",
       "\n",
       "    .dataframe tbody tr th {\n",
       "        vertical-align: top;\n",
       "    }\n",
       "\n",
       "    .dataframe thead th {\n",
       "        text-align: right;\n",
       "    }\n",
       "</style>\n",
       "<table border=\"1\" class=\"dataframe\">\n",
       "  <thead>\n",
       "    <tr style=\"text-align: right;\">\n",
       "      <th></th>\n",
       "      <th>balance</th>\n",
       "      <th>day</th>\n",
       "      <th>duration</th>\n",
       "      <th>campaign</th>\n",
       "      <th>pdays</th>\n",
       "      <th>previous</th>\n",
       "      <th>age_group</th>\n",
       "      <th>job_group</th>\n",
       "      <th>marital_group</th>\n",
       "      <th>education_group</th>\n",
       "      <th>default_group</th>\n",
       "      <th>housing_group</th>\n",
       "      <th>loan_group</th>\n",
       "      <th>contact_group</th>\n",
       "      <th>month_group</th>\n",
       "      <th>poutcome_group</th>\n",
       "    </tr>\n",
       "  </thead>\n",
       "  <tbody>\n",
       "    <tr>\n",
       "      <th>2265</th>\n",
       "      <td>1662</td>\n",
       "      <td>4</td>\n",
       "      <td>94</td>\n",
       "      <td>2</td>\n",
       "      <td>-1</td>\n",
       "      <td>0</td>\n",
       "      <td>6.0</td>\n",
       "      <td>1.0</td>\n",
       "      <td>1.0</td>\n",
       "      <td>1.0</td>\n",
       "      <td>1.0</td>\n",
       "      <td>2.0</td>\n",
       "      <td>1.0</td>\n",
       "      <td>2.0</td>\n",
       "      <td>2.0</td>\n",
       "      <td>1.0</td>\n",
       "    </tr>\n",
       "    <tr>\n",
       "      <th>1525</th>\n",
       "      <td>-3058</td>\n",
       "      <td>17</td>\n",
       "      <td>882</td>\n",
       "      <td>3</td>\n",
       "      <td>-1</td>\n",
       "      <td>0</td>\n",
       "      <td>4.0</td>\n",
       "      <td>11.0</td>\n",
       "      <td>1.0</td>\n",
       "      <td>2.0</td>\n",
       "      <td>1.0</td>\n",
       "      <td>1.0</td>\n",
       "      <td>2.0</td>\n",
       "      <td>2.0</td>\n",
       "      <td>11.0</td>\n",
       "      <td>1.0</td>\n",
       "    </tr>\n",
       "    <tr>\n",
       "      <th>1837</th>\n",
       "      <td>3025</td>\n",
       "      <td>7</td>\n",
       "      <td>476</td>\n",
       "      <td>1</td>\n",
       "      <td>352</td>\n",
       "      <td>1</td>\n",
       "      <td>6.0</td>\n",
       "      <td>1.0</td>\n",
       "      <td>1.0</td>\n",
       "      <td>1.0</td>\n",
       "      <td>1.0</td>\n",
       "      <td>2.0</td>\n",
       "      <td>1.0</td>\n",
       "      <td>2.0</td>\n",
       "      <td>1.0</td>\n",
       "      <td>2.0</td>\n",
       "    </tr>\n",
       "    <tr>\n",
       "      <th>9423</th>\n",
       "      <td>-87</td>\n",
       "      <td>13</td>\n",
       "      <td>531</td>\n",
       "      <td>1</td>\n",
       "      <td>-1</td>\n",
       "      <td>0</td>\n",
       "      <td>4.0</td>\n",
       "      <td>3.0</td>\n",
       "      <td>2.0</td>\n",
       "      <td>3.0</td>\n",
       "      <td>1.0</td>\n",
       "      <td>1.0</td>\n",
       "      <td>1.0</td>\n",
       "      <td>2.0</td>\n",
       "      <td>1.0</td>\n",
       "      <td>1.0</td>\n",
       "    </tr>\n",
       "    <tr>\n",
       "      <th>8111</th>\n",
       "      <td>205</td>\n",
       "      <td>18</td>\n",
       "      <td>176</td>\n",
       "      <td>4</td>\n",
       "      <td>-1</td>\n",
       "      <td>0</td>\n",
       "      <td>4.0</td>\n",
       "      <td>9.0</td>\n",
       "      <td>1.0</td>\n",
       "      <td>1.0</td>\n",
       "      <td>1.0</td>\n",
       "      <td>1.0</td>\n",
       "      <td>1.0</td>\n",
       "      <td>3.0</td>\n",
       "      <td>6.0</td>\n",
       "      <td>1.0</td>\n",
       "    </tr>\n",
       "  </tbody>\n",
       "</table>\n",
       "</div>"
      ],
      "text/plain": [
       "      balance  day  duration  campaign  pdays  previous  age_group  job_group  \\\n",
       "2265     1662    4        94         2     -1         0        6.0        1.0   \n",
       "1525    -3058   17       882         3     -1         0        4.0       11.0   \n",
       "1837     3025    7       476         1    352         1        6.0        1.0   \n",
       "9423      -87   13       531         1     -1         0        4.0        3.0   \n",
       "8111      205   18       176         4     -1         0        4.0        9.0   \n",
       "\n",
       "      marital_group  education_group  default_group  housing_group  \\\n",
       "2265            1.0              1.0            1.0            2.0   \n",
       "1525            1.0              2.0            1.0            1.0   \n",
       "1837            1.0              1.0            1.0            2.0   \n",
       "9423            2.0              3.0            1.0            1.0   \n",
       "8111            1.0              1.0            1.0            1.0   \n",
       "\n",
       "      loan_group  contact_group  month_group  poutcome_group  \n",
       "2265         1.0            2.0          2.0             1.0  \n",
       "1525         2.0            2.0         11.0             1.0  \n",
       "1837         1.0            2.0          1.0             2.0  \n",
       "9423         1.0            2.0          1.0             1.0  \n",
       "8111         1.0            3.0          6.0             1.0  "
      ]
     },
     "execution_count": 478,
     "metadata": {},
     "output_type": "execute_result"
    }
   ],
   "source": [
    "train_data.head()"
   ]
  },
  {
   "cell_type": "markdown",
   "metadata": {},
   "source": [
    "<br>\n",
    "\n",
    "## 5. Change normal labels to one-hot labels"
   ]
  },
  {
   "cell_type": "code",
   "execution_count": 479,
   "metadata": {},
   "outputs": [
    {
     "name": "stdout",
     "output_type": "stream",
     "text": [
      "(7813, 2)\n",
      "(3349, 2)\n"
     ]
    }
   ],
   "source": [
    "from sklearn.preprocessing import OneHotEncoder\n",
    "\n",
    "enc = OneHotEncoder(categories='auto')\n",
    "\n",
    "enc.fit(train_label)\n",
    "train_label = enc.transform(train_label).toarray()\n",
    "\n",
    "enc.fit(test_label)\n",
    "test_label = enc.transform(test_label).toarray()\n",
    "\n",
    "print(train_label.shape)\n",
    "print(test_label.shape)"
   ]
  },
  {
   "cell_type": "markdown",
   "metadata": {},
   "source": [
    "<br>\n",
    "\n",
    "## 6. Build & Train the model "
   ]
  },
  {
   "cell_type": "code",
   "execution_count": 480,
   "metadata": {},
   "outputs": [],
   "source": [
    "import tensorflow as tf\n",
    "from tensorflow.keras import datasets, utils\n",
    "from tensorflow.keras import models, layers, activations, initializers, losses, optimizers, metrics\n",
    "\n",
    "import os\n",
    "tf.logging.set_verbosity(tf.logging.ERROR)\n",
    "os.environ['TF_CPP_MIN_LOG_LEVEL'] = '2' # https://stackoverflow.com/questions/35911252/disable-tensorflow-debugging-information"
   ]
  },
  {
   "cell_type": "code",
   "execution_count": 481,
   "metadata": {},
   "outputs": [],
   "source": [
    "model = models.Sequential() \n",
    "\n",
    "model.add(layers.Dense(input_dim=len(train_data.columns.tolist()), units=256, activation=None, kernel_initializer=initializers.he_uniform())) \n",
    "model.add(layers.BatchNormalization()) # Use this line as if needed\n",
    "model.add(layers.Activation('elu')) # layers.ELU or layers.LeakyReLU\n",
    "\n",
    "model.add(layers.Dense(units=512, activation=None, kernel_initializer=initializers.he_uniform())) \n",
    "model.add(layers.Activation('elu')) \n",
    "\n",
    "model.add(layers.Dense(units=512, activation=None, kernel_initializer=initializers.he_uniform())) \n",
    "model.add(layers.Activation('elu'))\n",
    "\n",
    "model.add(layers.Dense(units=256, activation=None, kernel_initializer=initializers.he_uniform())) \n",
    "model.add(layers.Activation('elu')) \n",
    "model.add(layers.Dropout(rate=0.5))\n",
    "\n",
    "model.add(layers.Dense(units=2, activation='softmax')) # One-hot vector for 0 & 1"
   ]
  },
  {
   "cell_type": "code",
   "execution_count": 482,
   "metadata": {},
   "outputs": [],
   "source": [
    "model.compile(optimizer=optimizers.Adam(), \n",
    "              loss=losses.categorical_crossentropy, \n",
    "              metrics=[metrics.categorical_accuracy]) "
   ]
  },
  {
   "cell_type": "code",
   "execution_count": 483,
   "metadata": {},
   "outputs": [
    {
     "name": "stdout",
     "output_type": "stream",
     "text": [
      "Train on 5469 samples, validate on 2344 samples\n",
      "Epoch 1/20\n",
      "5469/5469 [==============================] - 2s 290us/sample - loss: 0.9187 - categorical_accuracy: 0.6734 - val_loss: 0.7099 - val_categorical_accuracy: 0.6672\n",
      "Epoch 2/20\n",
      "5469/5469 [==============================] - 1s 112us/sample - loss: 0.6381 - categorical_accuracy: 0.7095 - val_loss: 0.6115 - val_categorical_accuracy: 0.7031\n",
      "Epoch 3/20\n",
      "5469/5469 [==============================] - 1s 112us/sample - loss: 0.5749 - categorical_accuracy: 0.7246 - val_loss: 0.5901 - val_categorical_accuracy: 0.7355\n",
      "Epoch 4/20\n",
      "5469/5469 [==============================] - 1s 112us/sample - loss: 0.5754 - categorical_accuracy: 0.7263 - val_loss: 0.5465 - val_categorical_accuracy: 0.7359\n",
      "Epoch 5/20\n",
      "5469/5469 [==============================] - 1s 114us/sample - loss: 0.5446 - categorical_accuracy: 0.7460 - val_loss: 0.4922 - val_categorical_accuracy: 0.7585\n",
      "Epoch 6/20\n",
      "5469/5469 [==============================] - 1s 115us/sample - loss: 0.5198 - categorical_accuracy: 0.7561 - val_loss: 0.5090 - val_categorical_accuracy: 0.7381\n",
      "Epoch 7/20\n",
      "5469/5469 [==============================] - 1s 141us/sample - loss: 0.5145 - categorical_accuracy: 0.7568 - val_loss: 0.4985 - val_categorical_accuracy: 0.7615\n",
      "Epoch 8/20\n",
      "5469/5469 [==============================] - 1s 116us/sample - loss: 0.5072 - categorical_accuracy: 0.7665 - val_loss: 0.4954 - val_categorical_accuracy: 0.7624\n",
      "Epoch 9/20\n",
      "5469/5469 [==============================] - 1s 118us/sample - loss: 0.4915 - categorical_accuracy: 0.7689 - val_loss: 0.4817 - val_categorical_accuracy: 0.7799\n",
      "Epoch 10/20\n",
      "5469/5469 [==============================] - 1s 127us/sample - loss: 0.4810 - categorical_accuracy: 0.7755 - val_loss: 0.4647 - val_categorical_accuracy: 0.7769\n",
      "Epoch 11/20\n",
      "5469/5469 [==============================] - 1s 116us/sample - loss: 0.4865 - categorical_accuracy: 0.7703 - val_loss: 0.4710 - val_categorical_accuracy: 0.7833\n",
      "Epoch 12/20\n",
      "5469/5469 [==============================] - 1s 113us/sample - loss: 0.4620 - categorical_accuracy: 0.7846 - val_loss: 0.4565 - val_categorical_accuracy: 0.7863\n",
      "Epoch 13/20\n",
      "5469/5469 [==============================] - 1s 116us/sample - loss: 0.4757 - categorical_accuracy: 0.7764 - val_loss: 0.4782 - val_categorical_accuracy: 0.7628\n",
      "Epoch 14/20\n",
      "5469/5469 [==============================] - 1s 120us/sample - loss: 0.4623 - categorical_accuracy: 0.7819 - val_loss: 0.4668 - val_categorical_accuracy: 0.7747\n",
      "Epoch 15/20\n",
      "5469/5469 [==============================] - 1s 137us/sample - loss: 0.4582 - categorical_accuracy: 0.7848 - val_loss: 0.4613 - val_categorical_accuracy: 0.7833\n",
      "Epoch 16/20\n",
      "5469/5469 [==============================] - 1s 115us/sample - loss: 0.4452 - categorical_accuracy: 0.7877 - val_loss: 0.4451 - val_categorical_accuracy: 0.7910\n",
      "Epoch 17/20\n",
      "5469/5469 [==============================] - 1s 113us/sample - loss: 0.4538 - categorical_accuracy: 0.7895 - val_loss: 0.4585 - val_categorical_accuracy: 0.7799\n",
      "Epoch 18/20\n",
      "5469/5469 [==============================] - 1s 113us/sample - loss: 0.4499 - categorical_accuracy: 0.7930 - val_loss: 0.4573 - val_categorical_accuracy: 0.7863\n",
      "Epoch 19/20\n",
      "5469/5469 [==============================] - 1s 113us/sample - loss: 0.4548 - categorical_accuracy: 0.7866 - val_loss: 0.4688 - val_categorical_accuracy: 0.7722\n",
      "Epoch 20/20\n",
      "5469/5469 [==============================] - 1s 114us/sample - loss: 0.4475 - categorical_accuracy: 0.7932 - val_loss: 0.4525 - val_categorical_accuracy: 0.7858\n"
     ]
    }
   ],
   "source": [
    "history = model.fit(train_data, train_label, batch_size=100, epochs=20, validation_split=0.3) "
   ]
  },
  {
   "cell_type": "code",
   "execution_count": 484,
   "metadata": {},
   "outputs": [
    {
     "name": "stdout",
     "output_type": "stream",
     "text": [
      "3349/3349 [==============================] - 0s 36us/sample - loss: 0.4475 - categorical_accuracy: 0.7925\n",
      "loss (cross-entropy) : 0.4475232905311419\n",
      "test accuracy : 0.79247534\n"
     ]
    }
   ],
   "source": [
    "result = model.evaluate(test_data, test_label, batch_size=100)\n",
    "\n",
    "print('loss (cross-entropy) :', result[0])\n",
    "print('test accuracy :', result[1])"
   ]
  },
  {
   "cell_type": "code",
   "execution_count": 485,
   "metadata": {},
   "outputs": [
    {
     "data": {
      "image/png": "[encoded data removed]",
      "text/plain": [
       "<Figure size 576x396 with 1 Axes>"
      ]
     },
     "metadata": {},
     "output_type": "display_data"
    }
   ],
   "source": [
    "val_acc = history.history['val_categorical_accuracy']\n",
    "acc = history.history['categorical_accuracy']\n",
    "\n",
    "import numpy as np\n",
    "import matplotlib.pyplot as plt\n",
    "\n",
    "x_len = np.arange(len(acc))\n",
    "plt.plot(x_len, acc, marker='.', c='blue', label=\"Train-set Acc.\")\n",
    "plt.plot(x_len, val_acc, marker='.', c='red', label=\"Validation-set Acc.\")\n",
    "\n",
    "plt.legend(loc='upper right')\n",
    "plt.grid()\n",
    "plt.xlabel('epoch')\n",
    "plt.ylabel('Accuracy')\n",
    "plt.show()"
   ]
  },
  {
   "cell_type": "code",
   "execution_count": 486,
   "metadata": {},
   "outputs": [
    {
     "data": {
      "text/plain": [
       "array([0, 1, 0, ..., 0, 1, 1], dtype=int64)"
      ]
     },
     "execution_count": 486,
     "metadata": {},
     "output_type": "execute_result"
    }
   ],
   "source": [
    "# Prediction on test data\n",
    "np.argmax(model.predict(test_data), axis=1)"
   ]
  }
 ],
 "metadata": {
  "kernelspec": {
   "display_name": "Python 3",
   "language": "python",
   "name": "python3"
  },
  "language_info": {
   "codemirror_mode": {
    "name": "ipython",
    "version": 3
   },
   "file_extension": ".py",
   "mimetype": "text/x-python",
   "name": "python",
   "nbconvert_exporter": "python",
   "pygments_lexer": "ipython3",
   "version": "3.7.3"
  }
 },
 "nbformat": 4,
 "nbformat_minor": 2
}
